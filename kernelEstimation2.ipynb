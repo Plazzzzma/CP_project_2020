{
 "cells": [
  {
   "cell_type": "code",
   "execution_count": 1,
   "metadata": {},
   "outputs": [],
   "source": [
    "import numpy as np\n",
    "import imageio\n",
    "import matplotlib.pyplot as plt\n",
    "import cv2\n",
    "from skimage import color\n",
    "from scipy import signal\n",
    "from skimage.restoration import (denoise_tv_chambolle, denoise_bilateral,\n",
    "                                 denoise_wavelet, estimate_sigma)\n",
    "\n",
    "#Helpers\n",
    "import data_loader as dl\n",
    "import kernel_estimate as ke"
   ]
  },
  {
   "cell_type": "code",
   "execution_count": 2,
   "metadata": {},
   "outputs": [],
   "source": [
    "def blind_kernel_estimate(Y, X_l, kernel_width, reg_mode=0, reg_weight=1d):\n",
    "    '''\n",
    "    Operation: estimate the kernel k that minimizes ||Y-X_l*k||**2 (+ reg_weight * ||k||**2)\n",
    "    Inputs: \n",
    "        2D images Y and X_l (Gray or multichannel)\n",
    "        kernel_width (integer > 0, better if even)\n",
    "        reg_mode (0: no reg, 1: L2 reg)\n",
    "        reg_weight (weight of the L2 reg term, ignored when reg_mode=0)\n",
    "    Outputs: \n",
    "        k of size kernel_width x kernel_width (or kernel_width-1 if it is odd)\n",
    "    '''\n",
    "    \n",
    "    # Convert inputs to Fourier domain\n",
    "    X_l_Freq = np.fft.fft2(X_l, axes=[0, 1])\n",
    "    Y_Freq = np.fft.fft2(Y, axes=[0, 1])\n",
    "\n",
    "    # Solve for k in Fourier domain (regularization only affects den)\n",
    "    num = X_l_Freq.conjugate() * Y_Freq\n",
    "    if reg_mode == 0:\n",
    "        den = np.abs(X_l_Freq)**2 # Fourier transform of X_l transpose * X_l\n",
    "    elif reg_mode == 1:\n",
    "        den = reg_weight + np.abs(X_l_Freq)**2 # Fourier transform of [2*reg_weight + X_l transpose * X_l]\n",
    "    k_l_Freq = num / den\n",
    "\n",
    "    # Get average channel solution if multi-channel\n",
    "    if k_l_Freq.ndim == 3:\n",
    "        k_l_Freq = np.mean(k_l_Freq, 2)\n",
    "    \n",
    "    # Convert back to spatial, given the width\n",
    "    if kernel_width < 1:\n",
    "        raise ValueError('kernel_width must be a positive integer')\n",
    "    k_l = otf2psf(k_l_Freq, [kernel_width, kernel_width])\n",
    "\n",
    "    # Correct the pixel shift for odd width\n",
    "    if (kernel_width % 2 == 1):\n",
    "        k_l = k_l[1:,1:]\n",
    "    \n",
    "    # Normalize to 1\n",
    "    k_l = k_l / k_l.sum()\n",
    "    \n",
    "    return k_l\n"
   ]
  },
  {
   "cell_type": "code",
   "execution_count": 3,
   "metadata": {},
   "outputs": [],
   "source": [
    "def otf2psf(otf, outsize=None):\n",
    "    insize = np.array(otf.shape)\n",
    "    psf = np.fft.ifftn(otf, axes=(0, 1))\n",
    "    for axis, axis_size in enumerate(insize):\n",
    "        psf = np.roll(psf, np.floor(axis_size / 2).astype(int), axis=axis)\n",
    "    if type(outsize) != type(None):\n",
    "        insize = np.array(otf.shape)\n",
    "        outsize = np.array(outsize)\n",
    "        n = max(np.size(outsize), np.size(insize))\n",
    "        # outsize = postpad(outsize(:), n, 1);\n",
    "        # insize = postpad(insize(:) , n, 1);\n",
    "        colvec_out = outsize.flatten().reshape((np.size(outsize), 1))\n",
    "        colvec_in = insize.flatten().reshape((np.size(insize), 1))\n",
    "        outsize = np.pad(colvec_out, ((0, max(0, n - np.size(colvec_out))), (0, 0)), mode=\"constant\")\n",
    "        insize = np.pad(colvec_in, ((0, max(0, n - np.size(colvec_in))), (0, 0)), mode=\"constant\")\n",
    "\n",
    "        pad = (insize - outsize) / 2\n",
    "        if np.any(pad < 0):\n",
    "            print(\"otf2psf error: OUTSIZE must be smaller than or equal than OTF size\")\n",
    "        prepad = np.floor(pad)\n",
    "        postpad = np.ceil(pad)\n",
    "        dims_start = prepad.astype(int)\n",
    "        dims_end = (insize - postpad).astype(int)\n",
    "        for i in range(len(dims_start.shape)):\n",
    "            psf = np.take(psf, range(dims_start[i][0], dims_end[i][0]), axis=i)\n",
    "    n_ops = np.sum(otf.size * np.log2(otf.shape))\n",
    "    psf = np.real_if_close(psf, tol=n_ops)\n",
    "    return psf"
   ]
  },
  {
   "cell_type": "code",
   "execution_count": 5,
   "metadata": {},
   "outputs": [],
   "source": [
    "def estimate_kernel_denoised(patch_sharp,patch_blurred):\n",
    "\n",
    "    denoised_image = denoise_wavelet(patch_blurred, multichannel=False,rescale_sigma=True)\n",
    "\n",
    "    kernel_sizes = range(3,30)\n",
    "    convoluted_images1 = []\n",
    "    convoluted_images2 = []\n",
    "    errors_k1 = []\n",
    "    errors_k2 = []\n",
    "    kernels1 = []\n",
    "    kernels2 = []\n",
    "\n",
    "    for k in kernel_sizes:\n",
    "        \n",
    "        k1 =blind_kernel_estimate(denoised_image, patch_sharp, k,1)\n",
    "        kernels1.append(k1)\n",
    "\n",
    "\n",
    "        convoluted_image1 = signal.convolve2d(patch_sharp,k1,mode = 'same',boundary = 'wrap')\n",
    "        convoluted_images1.append(convoluted_image1)\n",
    "\n",
    "        errors_k1.append( np.mean(np.sqrt((convoluted_image1-patch_blurred)**2)) )\n",
    "\n",
    "    min_index = np.argmin(errors_k1)\n",
    "    k_final = kernels1[min_index]\n",
    "    error_final = errors_k1[min_index]\n",
    "    return [k_final,error_final,k_final.shape[0]]\n",
    "    "
   ]
  },
  {
   "cell_type": "code",
   "execution_count": 4,
   "metadata": {},
   "outputs": [],
   "source": [
    "def estimate_kernel(patch_sharp,patch_blurred, report =False):\n",
    "    \n",
    "\n",
    "    #sig_est = estimate_sigma(patch_blurred)\n",
    "    #noise = np.random.normal(0,sig_est,patch_blurred.shape)\n",
    "    denoised_image = denoise_wavelet(patch_blurred, multichannel=False,rescale_sigma=True)\n",
    "\n",
    "    kernel_sizes = range(3,35)\n",
    "    convoluted_images1 = []\n",
    "    convoluted_images2 = []\n",
    "    errors_k1 = []\n",
    "    errors_k2 = []\n",
    "    kernels1 = []\n",
    "    kernels2 = []\n",
    "\n",
    "    for k in kernel_sizes:\n",
    "        k1 =blind_kernel_estimate(denoised_image, patch_sharp, k,1)\n",
    "        k2 = blind_kernel_estimate(patch_blurred, patch_sharp, k,1)\n",
    "\n",
    "        kernels1.append(k1)\n",
    "        kernels2.append(k2)\n",
    "\n",
    "        convoluted_image1 = signal.convolve2d(patch_sharp,k1,mode = 'same',boundary = 'wrap')\n",
    "        convoluted_images1.append(convoluted_image1)\n",
    "\n",
    "        convoluted_image2 = signal.convolve2d(patch_sharp,k2,mode = 'same',boundary = 'wrap')\n",
    "        convoluted_images2.append(convoluted_image2)\n",
    "\n",
    "        errors_k1.append( np.mean(np.sqrt((convoluted_image1-patch_blurred)**2)) )\n",
    "        errors_k2.append( np.mean(np.sqrt((convoluted_image2-patch_blurred)**2)) )\n",
    "        error_k1_sharp = np.mean(np.sqrt((convoluted_image1-patch_sharp)**2))\n",
    "        error_k2_sharp = np.mean(np.sqrt((convoluted_image2-patch_sharp)**2))\n",
    "\n",
    "    min_index = np.argmin(errors_k1)\n",
    "    convoluted_image1 = convoluted_images1[min_index]\n",
    "    convoluted_image2 = convoluted_images2[min_index]\n",
    "    k1 = kernels1[min_index]\n",
    "    k2 = kernels2[min_index]\n",
    "    error_k1 = errors_k1[min_index]\n",
    "    error_k2 = errors_k2[min_index]\n",
    "    \n",
    "    if report :\n",
    "        fig , axs = plt.subplots(2,3)\n",
    "    \n",
    "        fig.set_figheight(15)\n",
    "        fig.set_figwidth(15)\n",
    "\n",
    "        axs[0,0].imshow(sharp_patches[patch_index])\n",
    "        axs[0,0].set_title('sharp image')\n",
    "\n",
    "        axs[0,1].imshow(blurred_patches[patch_index])\n",
    "        axs[0,1].set_title('actual blurred image')\n",
    "\n",
    "        #axs[2].imshow(denoised_image)\n",
    "        #axs[2].set_title('denoised blurred image')\n",
    "\n",
    "        axs[0,2].imshow(convoluted_image1)\n",
    "        axs[0,2].set_title('estimated blurred image 1')\n",
    "\n",
    "        axs[1,0].imshow(convoluted_image2)\n",
    "        axs[1,0].set_title('estimated blurred image 2')\n",
    "\n",
    "        axs[1,1].imshow(k1)\n",
    "        axs[1,1].set_title('k1')\n",
    "\n",
    "        axs[1,2].imshow(k2)\n",
    "        axs[1,2].set_title('k2')\n",
    "        #axs[4].imshow(denoised_image-blurred_patches[patch_index])\n",
    "        #axs[4].imshow(denoised_image-convoluted_image)\n",
    "\n",
    "        print('error k1 : ' + str(error_k1))\n",
    "        print('error k2 : ' + str(error_k2))\n",
    "        print('error k1 to sharp : ' + str(error_k1_sharp))\n",
    "        print('error k2 to sharp: ' + str(error_k2_sharp))\n",
    "        print('k1 shape : ' + str(k1.shape))\n",
    "        print('k2 shape : ' + str(k2.shape))\n",
    "    \n",
    "\n"
   ]
  },
  {
   "cell_type": "code",
   "execution_count": 6,
   "metadata": {},
   "outputs": [],
   "source": [
    "#load images\n",
    "sharp_image_path = \"Data/focused_images/cropped_images/stack1_cropped.jpg\"\n",
    "blurred_image_path = \"Data/focused_images/cropped_images/testImages/stack1/image26_registered.png\"\n",
    "sharp_image_raw = cv2.imread(sharp_image_path,cv2.IMREAD_GRAYSCALE)\n",
    "blurred_image_raw = cv2.imread(blurred_image_path,cv2.IMREAD_GRAYSCALE)\n",
    "\n",
    "#blurred_image = cv2.normalize(blurred_image_raw,None, norm_type=cv2.NORM_MINMAX, dtype=cv2.CV_32F)\n",
    "#sharp_image = cv2.normalize(sharp_image_raw,None, norm_type=cv2.NORM_MINMAX, dtype=cv2.CV_32F)\n",
    "blurred_image = blurred_image_raw\n",
    "sharp_image = sharp_image_raw\n",
    "\n",
    "#sharp_patches = dl.extract_patch(1,64,blurred_image)\n",
    "patch_shape = [64,64]\n",
    "x_idxs = range(0,blurred_image.shape[0],patch_shape[0])\n",
    "y_idxs = range(0,blurred_image.shape[1],patch_shape[1])\n",
    "blurred_patches = []\n",
    "sharp_patches= []\n",
    "for i in range(0,len(x_idxs)-1):\n",
    "    for j in range(0,len(y_idxs)-1):\n",
    "        blurred_patch = blurred_image[x_idxs[i]:x_idxs[i+1],y_idxs[j]:y_idxs[j+1]]\n",
    "        blurred_patches.append(blurred_patch)\n",
    "        sharp_patch = sharp_image[x_idxs[i]:x_idxs[i+1],y_idxs[j]:y_idxs[j+1]]\n",
    "        sharp_patches.append(sharp_patch)\n",
    "\n",
    "        \n",
    "kernels = []   \n",
    "errors= []\n",
    "kernel_shapes = []\n",
    "for patch_index in range(0,len(sharp_patches)):\n",
    "    result = estimate_kernel_denoised(sharp_patches[patch_index],blurred_patches[patch_index])\n",
    "    kernels.append(result[0])\n",
    "    errors.append(result[1])\n",
    "    kernel_shapes.append(result[2])\n",
    "\n",
    "kernels = np.array(kernels)\n",
    "errors = np.array(errors)\n",
    "kernel_shapes = np.array(kernel_shapes)\n",
    "\n",
    "small_kernels = kernels[kernel_shapes <=10]\n",
    "small_errors = errors[kernel_shapes <=10]\n",
    "\n",
    "medium_kernels = kernels[np.logical_and(kernel_shapes <=20 , kernel_shapes > 10 )]\n",
    "medium_errors = errors[np.logical_and(kernel_shapes <=20 , kernel_shapes > 10 )]\n",
    "\n",
    "large_kernels = kernels[kernel_shapes >20]\n",
    "large_errors = errors[kernel_shapes >20]\n",
    "\n"
   ]
  },
  {
   "cell_type": "code",
   "execution_count": null,
   "metadata": {},
   "outputs": [],
   "source": []
  },
  {
   "cell_type": "code",
   "execution_count": 7,
   "metadata": {},
   "outputs": [
    {
     "name": "stdout",
     "output_type": "stream",
     "text": [
      "number of large kernels : 598\n",
      "number of medium kernels : 282\n",
      "number of small kernels : 222\n"
     ]
    }
   ],
   "source": [
    "print('number of large kernels : ' + str(len(large_kernels)))\n",
    "print('number of medium kernels : ' + str(len(medium_kernels)))\n",
    "print('number of small kernels : ' + str(len(small_kernels)))"
   ]
  },
  {
   "cell_type": "code",
   "execution_count": 8,
   "metadata": {},
   "outputs": [
    {
     "data": {
      "image/png": "[encoded data removed]",
      "text/plain": [
       "<Figure size 432x288 with 15 Axes>"
      ]
     },
     "metadata": {
      "needs_background": "light"
     },
     "output_type": "display_data"
    }
   ],
   "source": [
    "#plt.imshow(medium_kernels[np.argmin(medium_errors)])\n",
    "sorted_large = large_kernels[np.argsort(large_errors)]\n",
    "sorted_medium = medium_kernels[np.argsort(medium_errors)]\n",
    "sorted_small = small_kernels[np.argsort(small_errors)]\n",
    "fig,axs = plt.subplots(3,5)\n",
    "for i in range(0,5):\n",
    "   axs[0,i].imshow(sorted_large[i])\n",
    "for i in range(0,5):\n",
    "   axs[1,i].imshow(sorted_medium[i])\n",
    "for i in range(0,5):\n",
    "   axs[2,i].imshow(sorted_small[i])\n"
   ]
  },
  {
   "cell_type": "code",
   "execution_count": 9,
   "metadata": {},
   "outputs": [],
   "source": [
    "np.save('estimated_kernels2',kernels)\n"
   ]
  },
  {
   "cell_type": "code",
   "execution_count": 10,
   "metadata": {},
   "outputs": [],
   "source": [
    "selected_kernels = np.concatenate((sorted_medium[0:5],sorted_large[0:5]))"
   ]
  },
  {
   "cell_type": "code",
   "execution_count": 11,
   "metadata": {},
   "outputs": [],
   "source": [
    "np.save('selected_kernels2',selected_kernels)"
   ]
  },
  {
   "cell_type": "code",
   "execution_count": 14,
   "metadata": {},
   "outputs": [
    {
     "name": "stdout",
     "output_type": "stream",
     "text": [
      "[1.60455069 1.72223096 1.73348726 1.75682151 1.79862531]\n"
     ]
    }
   ],
   "source": [
    "print(np.sort(large_errors)[0:5])"
   ]
  },
  {
   "cell_type": "code",
   "execution_count": null,
   "metadata": {},
   "outputs": [],
   "source": []
  }
 ],
 "metadata": {
  "kernelspec": {
   "display_name": "Python 3",
   "language": "python",
   "name": "python3"
  },
  "language_info": {
   "codemirror_mode": {
    "name": "ipython",
    "version": 3
   },
   "file_extension": ".py",
   "mimetype": "text/x-python",
   "name": "python",
   "nbconvert_exporter": "python",
   "pygments_lexer": "ipython3",
   "version": "3.7.1"
  }
 },
 "nbformat": 4,
 "nbformat_minor": 4
}
