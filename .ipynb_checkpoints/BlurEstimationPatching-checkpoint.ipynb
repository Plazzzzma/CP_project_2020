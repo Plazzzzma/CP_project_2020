{
 "cells": [
  {
   "cell_type": "code",
   "execution_count": 1,
   "metadata": {},
   "outputs": [],
   "source": [
    "import numpy as np\n",
    "import imageio\n",
    "import matplotlib.pyplot as plt\n",
    "\n",
    "#Helpers\n",
    "import data_loader as dl"
   ]
  },
  {
   "cell_type": "code",
   "execution_count": null,
   "metadata": {},
   "outputs": [],
   "source": [
    "\n",
    "\n",
    "image1Path = \"Data/alignedImages/image1BW.TIF\"\n",
    "image2Path = \"Data/alignedImages/image2BW.TIF\"\n",
    "image1 = cv2.imread(image1Path)\n",
    "patches1 = dl.extract_patch(1,80,image1)\n",
    "for i in range(1,len(patches1)):\n",
    "    imageio.imwrite('Data/patches/patch'+str(i)+'.png',patches[i])\n",
    "image2 = cv2.imread(image2Path)\n",
    "patches2 = dl.extract_patch(1,80,image2)\n",
    "for i in range(1,len(patches1)):\n",
    "    imageio.imwrite('Data/patches/patch'+str(i)+'.png',patches[i])"
   ]
  }
 ],
 "metadata": {
  "kernelspec": {
   "display_name": "Python 3",
   "language": "python",
   "name": "python3"
  },
  "language_info": {
   "codemirror_mode": {
    "name": "ipython",
    "version": 3
   },
   "file_extension": ".py",
   "mimetype": "text/x-python",
   "name": "python",
   "nbconvert_exporter": "python",
   "pygments_lexer": "ipython3",
   "version": "3.7.1"
  }
 },
 "nbformat": 4,
 "nbformat_minor": 2
}
