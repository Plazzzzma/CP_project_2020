{
 "cells": [
  {
   "cell_type": "markdown",
   "metadata": {},
   "source": [
    "### This code implements the convolutional network used to detect the blur level of an image or a patch"
   ]
  },
  {
   "cell_type": "code",
   "execution_count": 1,
   "metadata": {},
   "outputs": [
    {
     "name": "stderr",
     "output_type": "stream",
     "text": [
      "Using TensorFlow backend.\n"
     ]
    }
   ],
   "source": [
    "import keras\n",
    "from keras.datasets import mnist\n",
    "from keras.models import Sequential,Model\n",
    "from keras.layers import Dense, Flatten, Conv2D, MaxPooling2D, Dropout,UpSampling2D,concatenate\n",
    "from keras.utils import to_categorical\n",
    "from keras.regularizers import l2\n",
    "from keras.layers.normalization import BatchNormalization\n",
    "from keras.layers.core import Activation\n",
    "\n",
    "\n",
    "from collections import Counter\n",
    "import numpy as np"
   ]
  },
  {
   "cell_type": "code",
   "execution_count": null,
   "metadata": {},
   "outputs": [],
   "source": [
    "import data_loader"
   ]
  },
  {
   "cell_type": "code",
   "execution_count": 2,
   "metadata": {},
   "outputs": [],
   "source": [
    "import os,sys\n",
    "import matplotlib.image as mpimg\n",
    "def load_set(directName,n):\n",
    "    # Loaded a set of images\n",
    "    root_dir = directName\n",
    "\n",
    "    \n",
    "    files = os.listdir(root_dir)\n",
    "    n = min(192, len(files)) \n",
    "    print(\"Loading \" + str(n) + \" images\")\n",
    "    imgs = [mpimg.imread(root_dir + files[i]) for i in range(n)]\n",
    "    \n",
    "    #print(files[0])\n",
    "\n",
    "    return imgs"
   ]
  },
  {
   "cell_type": "code",
   "execution_count": 3,
   "metadata": {},
   "outputs": [
    {
     "name": "stdout",
     "output_type": "stream",
     "text": [
      "Loading 192 images\n",
      "Loading 191 images\n",
      "Loading 191 images\n"
     ]
    }
   ],
   "source": [
    "#Load data set and create X and Y \n",
    "\n",
    "from sklearn.model_selection import train_test_split\n",
    "X = load_set(\"sharpPatches/\",192) \n",
    "X1=load_set(\"blurPatches11_3/\",192)\n",
    "X2=load_set(\"blurPatches22_9/\",192)\n",
    "x=np.concatenate((X,X1,X2))"
   ]
  },
  {
   "cell_type": "code",
   "execution_count": 4,
   "metadata": {},
   "outputs": [],
   "source": [
    "#we need y to have shape (N,y) where N is the number of categories\n",
    "y=to_categorical(np.concatenate((np.zeros(len(X)),np.ones(len(X1)),np.ones(len(X2))*2)))"
   ]
  },
  {
   "cell_type": "code",
   "execution_count": 5,
   "metadata": {},
   "outputs": [
    {
     "data": {
      "text/plain": [
       "(574, 3)"
      ]
     },
     "execution_count": 5,
     "metadata": {},
     "output_type": "execute_result"
    }
   ],
   "source": [
    "y.shape"
   ]
  },
  {
   "cell_type": "code",
   "execution_count": 6,
   "metadata": {},
   "outputs": [],
   "source": [
    "X_train, X_test, y_train, y_test = train_test_split(x, y, test_size=0.33, random_state=42)"
   ]
  },
  {
   "cell_type": "code",
   "execution_count": 7,
   "metadata": {},
   "outputs": [
    {
     "name": "stdout",
     "output_type": "stream",
     "text": [
      "Model: \"sequential_1\"\n",
      "_________________________________________________________________\n",
      "Layer (type)                 Output Shape              Param #   \n",
      "=================================================================\n",
      "conv2d_1 (Conv2D)            (None, 320, 320, 32)      2432      \n",
      "_________________________________________________________________\n",
      "max_pooling2d_1 (MaxPooling2 (None, 160, 160, 32)      0         \n",
      "_________________________________________________________________\n",
      "conv2d_2 (Conv2D)            (None, 160, 160, 64)      51264     \n",
      "_________________________________________________________________\n",
      "max_pooling2d_2 (MaxPooling2 (None, 80, 80, 64)        0         \n",
      "_________________________________________________________________\n",
      "dropout_1 (Dropout)          (None, 80, 80, 64)        0         \n",
      "_________________________________________________________________\n",
      "flatten_1 (Flatten)          (None, 409600)            0         \n",
      "_________________________________________________________________\n",
      "dense_1 (Dense)              (None, 1024)              419431424 \n",
      "_________________________________________________________________\n",
      "activation_1 (Activation)    (None, 1024)              0         \n",
      "_________________________________________________________________\n",
      "dropout_2 (Dropout)          (None, 1024)              0         \n",
      "_________________________________________________________________\n",
      "dense_2 (Dense)              (None, 3)                 3075      \n",
      "=================================================================\n",
      "Total params: 419,488,195\n",
      "Trainable params: 419,488,195\n",
      "Non-trainable params: 0\n",
      "_________________________________________________________________\n"
     ]
    }
   ],
   "source": [
    "#create model to assess if a certain patch is blurred or not\n",
    "\n",
    "model = Sequential()\n",
    "#add model layers from paper : Assessing microscope image focus quality with deep learnin\n",
    "window_size=320\n",
    "model.add(Conv2D(32, kernel_size=5, activation='relu',padding='same', input_shape=(window_size,window_size,3), kernel_regularizer=l2(0.0005)))\n",
    "model.add(MaxPooling2D((2, 2),strides=2))\n",
    "\n",
    "model.add(Conv2D(64, kernel_size=5, activation='relu',padding='same',kernel_regularizer=l2(0.0005)))\n",
    "model.add(MaxPooling2D((2, 2),strides=2))\n",
    "model.add(Dropout(0.2))\n",
    "\n",
    "model.add(Flatten())\n",
    "model.add(Dense(1024))\n",
    "model.add(Activation(\"relu\"))\n",
    "model.add(Dropout(0.5))\n",
    "\n",
    "#model.add(flatten(()))\n",
    "model.add(Dense(3,activation='softmax'))\n",
    "\n",
    "\n",
    "\n",
    "#compile model using accuracy to measure model performance\n",
    "model.compile(optimizer='adam', loss='logcosh', metrics=['accuracy'])\n",
    "model.summary()"
   ]
  },
  {
   "cell_type": "code",
   "execution_count": null,
   "metadata": {},
   "outputs": [
    {
     "name": "stdout",
     "output_type": "stream",
     "text": [
      "Train on 307 samples, validate on 77 samples\n",
      "Epoch 1/10\n",
      " 96/307 [========>.....................] - ETA: 34:40 - loss: 0.1949 - accuracy: 0.3021"
     ]
    }
   ],
   "source": [
    "#train the model\n",
    "#first without albumentation patch size = 20\n",
    "#second train model with patch size=16 and data set containing \n",
    "from keras.callbacks import EarlyStopping\n",
    "\n",
    "es = EarlyStopping(monitor='val_loss', mode='min')\n",
    "\n",
    "model.fit(X_train, y_train, epochs=10,initial_epoch=0,validation_split=0.2,callbacks=[es])"
   ]
  },
  {
   "cell_type": "code",
   "execution_count": null,
   "metadata": {},
   "outputs": [],
   "source": []
  }
 ],
 "metadata": {
  "kernelspec": {
   "display_name": "Python 3",
   "language": "python",
   "name": "python3"
  },
  "language_info": {
   "codemirror_mode": {
    "name": "ipython",
    "version": 3
   },
   "file_extension": ".py",
   "mimetype": "text/x-python",
   "name": "python",
   "nbconvert_exporter": "python",
   "pygments_lexer": "ipython3",
   "version": "3.7.6"
  }
 },
 "nbformat": 4,
 "nbformat_minor": 4
}
