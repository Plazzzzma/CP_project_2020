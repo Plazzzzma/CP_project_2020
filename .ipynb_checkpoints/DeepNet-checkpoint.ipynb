{
 "cells": [
  {
   "cell_type": "code",
   "execution_count": null,
   "metadata": {},
   "outputs": [],
   "source": [
    "#create model to assess if a certain patch is blurred or not\n",
    "\n",
    "model = Sequential()\n",
    "#add model layers from paper : Assessing microscope image focus quality with deep learnin\n",
    "window_size=84\n",
    "model.add(Conv2D(32, kernel_size=5, activation='relu',padding='same', input_shape=(window_size,window_size,3), kernel_regularizer=l2(0.0005)))\n",
    "model.add(MaxPooling2D((2, 2)))\n",
    "\n",
    "model.add(Conv2D(64, kernel_size=5, activation='relu',padding='same',kernel_regularizer=l2(0.0005)))\n",
    "model.add(MaxPooling2D((2, 2)))\n",
    "model.add(Dropout(0.2))\n",
    "\n",
    "model.add(Flatten())\n",
    "model.add(Dense(1024))\n",
    "\n",
    "model.add(Activation(\"relu\"))\n",
    "model.add(Dropout(0.5))\n",
    "\n",
    "model.add(flatten(()))\n",
    "\n",
    "model.add(Dense(11,activation='softmax'))\n",
    "\n",
    "\n",
    "\n",
    "#compile model using accuracy to measure model performance\n",
    "model.compile(optimizer='adam', loss='probability_score_loss', metrics=['accuracy'])\n",
    "model.summary()"
   ]
  }
 ],
 "metadata": {
  "kernelspec": {
   "display_name": "Python 3",
   "language": "python",
   "name": "python3"
  },
  "language_info": {
   "codemirror_mode": {
    "name": "ipython",
    "version": 3
   },
   "file_extension": ".py",
   "mimetype": "text/x-python",
   "name": "python",
   "nbconvert_exporter": "python",
   "pygments_lexer": "ipython3",
   "version": "3.7.1"
  }
 },
 "nbformat": 4,
 "nbformat_minor": 4
}
